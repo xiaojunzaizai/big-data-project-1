{
 "cells": [
  {
   "cell_type": "code",
   "execution_count": null,
   "metadata": {},
   "outputs": [],
   "source": [
    "'''\n",
    "CSC 6760 Big Data\n",
    "Jun Chen\n",
    "Movie Recommendation System\n",
    "'''"
   ]
  },
  {
   "cell_type": "code",
   "execution_count": null,
   "metadata": {},
   "outputs": [],
   "source": [
    "from pyspark.context import SparkContext\n",
    "from pyspark.mllib.recommendation import ALS\n",
    "from pyspark import SparkConf\n",
    "from pyspark.sql import SparkSession, SQLContext, Row\n",
    "from pyspark.sql.functions import *\n",
    "import math\n",
    "from pyspark.sql.types import IntegerType\n",
    "import time"
   ]
  },
  {
   "cell_type": "code",
   "execution_count": null,
   "metadata": {},
   "outputs": [],
   "source": [
    "def get_time(t):\n",
    "    timeArray = time.localtime(t)\n",
    "    otherStyleTime = time.strftime(\"%Y-%m-%d %H:%M:%S\", timeArray)\n",
    "    return otherStyleTime"
   ]
  },
  {
   "cell_type": "code",
   "execution_count": null,
   "metadata": {},
   "outputs": [],
   "source": [
    "def time_cov(t):\n",
    "    timeArray = time.strptime(t, \"%Y-%m-%d %H:%M:%S\")\n",
    "    timestamp = time.mktime(timeArray)\n",
    "    return timestamp"
   ]
  },
  {
   "cell_type": "code",
   "execution_count": null,
   "metadata": {},
   "outputs": [],
   "source": [
    "def change_value(v):\n",
    "    if v >4.0 or math.isclose(v,4.0):\n",
    "        return 2\n",
    "    if v >3.0 and v < 4.0:\n",
    "        return 1\n",
    "    if v >2.0 and v <3.0 or math.isclose(v,2.0) or math.isclose(v,3.0):\n",
    "        return 0\n",
    "    if v>1.0 and v< 2.0:\n",
    "        return -1\n",
    "    if v >0.0 and v<1.0 or math.isclose(v,0.0) or math.isclose(v,1.0):\n",
    "        return -2"
   ]
  },
  {
   "cell_type": "code",
   "execution_count": null,
   "metadata": {},
   "outputs": [],
   "source": [
    "conf = SparkConf().setMaster(\"local\") \\\n",
    "                  .set(\"spark.executor.memory\", \"4g\") \n",
    "sc = SparkContext(conf= conf)\n",
    "sc.setLogLevel(\"ERROR\")\n",
    "\n",
    "spark = SparkSession \\\n",
    "    .builder \\\n",
    "    .appName(\"Recommendation\") \\\n",
    "    .config(conf= conf) \\\n",
    "    .getOrCreate()"
   ]
  },
  {
   "cell_type": "code",
   "execution_count": null,
   "metadata": {},
   "outputs": [],
   "source": [
    "ratingdata = sc.textFile('ratings.csv')\n",
    "ratingdata = ratingdata.filter(lambda x: 'movieId' not in x)\n",
    "moviedf= spark.read.csv('movies.csv')\n",
    "ratingdata.persist()\n",
    "ratingdf = spark.read.csv('ratings.csv')"
   ]
  },
  {
   "cell_type": "code",
   "execution_count": null,
   "metadata": {
    "scrolled": true
   },
   "outputs": [],
   "source": [
    "ratingdata.take(5)"
   ]
  },
  {
   "cell_type": "code",
   "execution_count": null,
   "metadata": {},
   "outputs": [],
   "source": [
    "ratingrdd = ratingdf.rdd.map(lambda attributes: \\\n",
    "                            Row(userId = attributes[0],\\\n",
    "                                movieId = attributes[1],\\\n",
    "                                rating = attributes[2],\\\n",
    "                                timestamp = attributes[3]))\n"
   ]
  },
  {
   "cell_type": "code",
   "execution_count": null,
   "metadata": {},
   "outputs": [],
   "source": [
    "ratingdf1 = ratingrdd.toDF()\n",
    "ratingdf1 = ratingdf1.filter(ratingdf1.movieId != 'movieId')\n",
    "ratingdf1 = ratingdf1.withColumn('timestamp',ratingdf1['timestamp'].cast(IntegerType()))\n",
    "ratingdf1.show()"
   ]
  },
  {
   "cell_type": "code",
   "execution_count": null,
   "metadata": {},
   "outputs": [],
   "source": [
    "ratingdf1.describe().show()"
   ]
  },
  {
   "cell_type": "code",
   "execution_count": null,
   "metadata": {},
   "outputs": [],
   "source": [
    "max = int(ratingdf1.describe('timestamp').filter(\"summary = 'max'\").select('timestamp').collect()[0].asDict()['timestamp'])\n",
    "print('MAX timestamp: '+ str(max))\n",
    "min = int(ratingdf1.describe('timestamp').filter(\"summary = 'min'\").select('timestamp').collect()[0].asDict()['timestamp'])\n",
    "print('Min timestamp: '+ str(min))"
   ]
  },
  {
   "cell_type": "code",
   "execution_count": null,
   "metadata": {},
   "outputs": [],
   "source": [
    "moviedf.show()"
   ]
  },
  {
   "cell_type": "code",
   "execution_count": null,
   "metadata": {},
   "outputs": [],
   "source": [
    "# movie dictionary\n",
    "movierdd = moviedf.rdd.map(lambda attributes: \\\n",
    "                            Row(movieId = attributes[0],\\\n",
    "                            title = attributes[1]))\n",
    "Df1 = movierdd.toDF()\n",
    "\n",
    "result = Df1.filter(Df1.movieId != 'movieId')\n",
    "moviedict = result.rdd.map(lambda row: {row[0]: row[1]}).collect()\n",
    "\n",
    "movietitle={}\n",
    "for i in moviedict:\n",
    "    movietitle.update(i)"
   ]
  },
  {
   "cell_type": "code",
   "execution_count": null,
   "metadata": {},
   "outputs": [],
   "source": [
    "print(movietitle['1'])"
   ]
  },
  {
   "cell_type": "code",
   "execution_count": null,
   "metadata": {
    "tags": [
     "outputPrepend"
    ]
   },
   "outputs": [],
   "source": [
    "print(movietitle)"
   ]
  },
  {
   "cell_type": "code",
   "execution_count": null,
   "metadata": {},
   "outputs": [],
   "source": [
    "rating_num = ratingdata.count()"
   ]
  },
  {
   "cell_type": "code",
   "execution_count": null,
   "metadata": {},
   "outputs": [],
   "source": [
    "print('total data in rating: ',end = '')\n",
    "print(rating_num)\n"
   ]
  },
  {
   "cell_type": "code",
   "execution_count": null,
   "metadata": {},
   "outputs": [],
   "source": [
    "movierating = ratingdata.map(lambda x: x.split(',')[:3])\n",
    "movierating.persist()"
   ]
  },
  {
   "cell_type": "code",
   "execution_count": null,
   "metadata": {},
   "outputs": [],
   "source": [
    "movierating.take(5)"
   ]
  },
  {
   "cell_type": "code",
   "execution_count": null,
   "metadata": {},
   "outputs": [],
   "source": [
    "total_user = movierating.map(lambda x: x[0]).distinct().count()\n",
    "total_movie = movierating.map(lambda x: x[1]).distinct().count()\n",
    "movienum=result.distinct().count()"
   ]
  },
  {
   "cell_type": "code",
   "execution_count": null,
   "metadata": {},
   "outputs": [],
   "source": [
    "print('total data in rating: ',end = '')\n",
    "print(rating_num)\n",
    "print('total user number in rating: ',end = '')\n",
    "print(total_user)\n",
    "print('total movie number in rating: ', end = '')\n",
    "print(total_movie)\n",
    "print('total movie number: ',end = '')\n",
    "print(movienum)"
   ]
  },
  {
   "cell_type": "code",
   "execution_count": null,
   "metadata": {},
   "outputs": [],
   "source": [
    "#use ALS to train the dataset\n",
    "start = time.time()\n",
    "model = ALS.train(movierating,10,10,0.01)\n",
    "stop = time.time()"
   ]
  },
  {
   "cell_type": "code",
   "execution_count": null,
   "metadata": {},
   "outputs": [],
   "source": [
    "print('Training time: ', str(stop-start))"
   ]
  },
  {
   "cell_type": "code",
   "execution_count": null,
   "metadata": {
    "scrolled": true
   },
   "outputs": [],
   "source": [
    "# recommendation based on ALS\n",
    "while True: \n",
    "    userID = int(input('Type a userID from 1 to 610  '))\n",
    "    if userID>=1 and userID<=610:\n",
    "        break\n",
    "r = model.recommendProducts(userID,5)\n",
    "print('For User', str(r[0][0]))\n",
    "print('Recommendation movies: ' )\n",
    "for u in r:\n",
    "    print('   ',movietitle[str(u[1])], 'Like Rate: ', str(u[2]))"
   ]
  },
  {
   "cell_type": "code",
   "execution_count": null,
   "metadata": {
    "scrolled": true
   },
   "outputs": [],
   "source": [
    "# whole dataset top 10 most people watched movies\n",
    "movie_fq = movierating.map(lambda x: (x[1],1)).reduceByKey(lambda x,y: x+y)\n",
    "movie_fq_sort = movie_fq.sortBy(lambda x: x[1],False).map(lambda x:x[0])\n",
    "\n",
    "most10 = movie_fq_sort.take(10)\n",
    "print('Most people watch: ')\n",
    "for i in most10:\n",
    "    print(movietitle[i])"
   ]
  },
  {
   "cell_type": "code",
   "execution_count": null,
   "metadata": {},
   "outputs": [],
   "source": [
    "# whole dataset top 10 high rating movies\n",
    "movierating1 = movierating.map(lambda x: (x[1],float(x[2]))).mapValues(change_value).reduceByKey(lambda x,y: x+y).sortBy(lambda x: x[1],False).map(lambda x: x[0])\n",
    "\n",
    "top10 = movierating1.take(10)\n",
    "print('Top 10 High Rating Movie: ')\n",
    "for i in top10:\n",
    "    print(movietitle[i])\n"
   ]
  },
  {
   "cell_type": "code",
   "execution_count": null,
   "metadata": {},
   "outputs": [],
   "source": [
    "# get 10 year, 5 yeay and 2 year timestamp\n",
    "print(get_time(min))\n",
    "print(get_time(max))\n",
    "maxtime1 = get_time(max).split(' ')\n",
    "maxtime2 = maxtime1[0].split('-')\n",
    "year = int(maxtime2[0])\n",
    "maxtime3 = '-'.join(maxtime2) + ' '+maxtime1[1]\n",
    "tenyear1 = str(year -10)\n",
    "maxtime2[0] = tenyear1\n",
    "tenyear2 = '-'.join(maxtime2) + ' '+maxtime1[1]\n",
    "tenyear = int(time_cov(tenyear2))\n",
    "print('Ten year timestamp: '+str(tenyear))\n",
    "fiveyear1 = str(year -5)\n",
    "maxtime2[0] = fiveyear1\n",
    "fiveyear2 = '-'.join(maxtime2) + ' '+maxtime1[1]\n",
    "fiveyear = int(time_cov(fiveyear2))\n",
    "print('Five year timestamp: '+str(fiveyear))\n",
    "twoyear1 = str(year -2)\n",
    "maxtime2[0] = twoyear1\n",
    "twoyear2 = '-'.join(maxtime2) + ' '+maxtime1[1]\n",
    "twoyear = int(time_cov(twoyear2))\n",
    "print('Two year timestamp: '+str(twoyear))\n"
   ]
  },
  {
   "cell_type": "code",
   "execution_count": null,
   "metadata": {},
   "outputs": [],
   "source": [
    "movietime = ratingdata.map(lambda x: x.split(',')[1:])\n",
    "movietime.persist()"
   ]
  },
  {
   "cell_type": "code",
   "execution_count": null,
   "metadata": {},
   "outputs": [],
   "source": [
    "movietime.take(3)"
   ]
  },
  {
   "cell_type": "code",
   "execution_count": null,
   "metadata": {},
   "outputs": [],
   "source": [
    "\n",
    "moveitime1 = movietime.filter(lambda x: int(x[2])>=tenyear)\n",
    "moveitime2 = movietime.filter(lambda x: int(x[2])>=fiveyear)\n",
    "moveitime3 = movietime.filter(lambda x: int(x[2])>=twoyear)\n",
    "moveitime1.persist()\n",
    "moveitime2.persist()\n",
    "moveitime3.persist()"
   ]
  },
  {
   "cell_type": "code",
   "execution_count": null,
   "metadata": {},
   "outputs": [],
   "source": [
    "moveitime1.take(3)"
   ]
  },
  {
   "cell_type": "code",
   "execution_count": null,
   "metadata": {},
   "outputs": [],
   "source": [
    "#ten year\n",
    "movie_ten = moveitime1.map(lambda x: (x[0],1)).reduceByKey(lambda x,y: x+y).sortBy(lambda x: x[1],False).map(lambda x:x[0])\n",
    "\n",
    "tenyear_most10 = movie_ten.take(10)\n",
    "print('In Ten Years \\nMost people watch: ')\n",
    "for i in tenyear_most10:\n",
    "    print(movietitle[i])\n",
    "print()\n",
    "\n",
    "ten_top = moveitime1.map(lambda x: (x[0],float(x[1]))).mapValues(change_value).reduceByKey(lambda x,y: x+y).sortBy(lambda x: x[1],False).map(lambda x: x[0])\n",
    "\n",
    "tenyear_top10 = ten_top.take(10)\n",
    "print('In Ten Year \\nTop 10 High Rating Movie: ')\n",
    "for i in tenyear_top10:\n",
    "    print(movietitle[i])"
   ]
  },
  {
   "cell_type": "code",
   "execution_count": null,
   "metadata": {},
   "outputs": [],
   "source": [
    "#five years\n",
    "movie_five = moveitime2.map(lambda x: (x[0],1)).reduceByKey(lambda x,y: x+y).sortBy(lambda x: x[1],False).map(lambda x:x[0])\n",
    "\n",
    "fiveyear_most10 = movie_five.take(10)\n",
    "print('In Five Years \\nMost people watch: ')\n",
    "for i in fiveyear_most10:\n",
    "    print(movietitle[i])\n",
    "print()\n",
    "\n",
    "five_top = moveitime2.map(lambda x: (x[0],float(x[1]))).mapValues(change_value).reduceByKey(lambda x,y: x+y).sortBy(lambda x: x[1],False).map(lambda x: x[0])\n",
    "\n",
    "fiveyear_top10 = five_top.take(10)\n",
    "print('In Five Year \\nTop 10 High Rating Movie: ')\n",
    "for i in fiveyear_top10:\n",
    "    print(movietitle[i])"
   ]
  },
  {
   "cell_type": "code",
   "execution_count": null,
   "metadata": {},
   "outputs": [],
   "source": [
    "#two years\n",
    "movie_two = moveitime3.map(lambda x: (x[0],1)).reduceByKey(lambda x,y: x+y).sortBy(lambda x: x[1],False).map(lambda x:x[0])\n",
    "\n",
    "twoyear_most10 = movie_two.take(10)\n",
    "print('In Two Years \\nMost people watch: ')\n",
    "for i in twoyear_most10:\n",
    "    print(movietitle[i])\n",
    "print()\n",
    "\n",
    "two_top = moveitime3.map(lambda x: (x[0],float(x[1]))).mapValues(change_value).reduceByKey(lambda x,y: x+y).sortBy(lambda x: x[1],False).map(lambda x: x[0])\n",
    "\n",
    "twoyear_top10 = two_top.take(10)\n",
    "print('In Two Year \\nTop 10 High Rating Movie: ')\n",
    "for i in twoyear_top10:\n",
    "    print(movietitle[i])"
   ]
  }
 ],
 "metadata": {
  "kernelspec": {
   "display_name": "Python 3.7.6 64-bit",
   "language": "python",
   "name": "python37664bitf46d56d6ffc34c998e980685763e37bb"
  },
  "language_info": {
   "codemirror_mode": {
    "name": "ipython",
    "version": 3
   },
   "file_extension": ".py",
   "mimetype": "text/x-python",
   "name": "python",
   "nbconvert_exporter": "python",
   "pygments_lexer": "ipython3",
   "version": "3.7.6"
  }
 },
 "nbformat": 4,
 "nbformat_minor": 4
}